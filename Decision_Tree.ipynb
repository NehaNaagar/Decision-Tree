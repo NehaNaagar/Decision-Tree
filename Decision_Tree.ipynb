{
  "nbformat": 4,
  "nbformat_minor": 0,
  "metadata": {
    "colab": {
      "provenance": []
    },
    "kernelspec": {
      "name": "python3",
      "display_name": "Python 3"
    },
    "language_info": {
      "name": "python"
    }
  },
  "cells": [
    {
      "cell_type": "markdown",
      "source": [
        "# Theoretical Questions"
      ],
      "metadata": {
        "id": "q0Fz5UlYa5fP"
      }
    },
    {
      "cell_type": "markdown",
      "source": [
        "1. What is a Decision Tree, and how does it work?\n",
        "\n",
        "- A Decision Tree is a supervised machine learning algorithm used for classification and regression tasks. It works by recursively partitioning the data into smaller subsets based on the features that best separate the classes or predict the target variable."
      ],
      "metadata": {
        "id": "iScavfH1bKOX"
      }
    },
    {
      "cell_type": "markdown",
      "source": [
        "2. What are impurity measures in Decision Trees?\n",
        "\n",
        "- Impurity measures quantify the homogeneity of a node in a Decision Tree. Common impurity measures include Gini Impurity and Entropy. These measures help determine the best feature to split the data at each node."
      ],
      "metadata": {
        "id": "9IFWaWl3bgzx"
      }
    },
    {
      "cell_type": "markdown",
      "source": [
        "3. What is the mathematical formula for Gini Impurity?\n",
        "\n",
        "- The Gini Impurity for a node is calculated as:\n",
        "\\[ Gini = 1 - \\sum_{i=1}^{C} p_i^2 \\]\n",
        "where \\( p_i \\) is the proportion of instances of class \\( i \\) in the node, and \\( C \\) is the number of classes."
      ],
      "metadata": {
        "id": "WfYkOOVDbg2x"
      }
    },
    {
      "cell_type": "markdown",
      "source": [
        "4. What is the mathematical formula for Entropy?\n",
        "\n",
        "- Entropy for a node is calculated as:\n",
        "\\[ Entropy = - \\sum_{i=1}^{C} p_i \\log_2(p_i) \\]\n",
        "where \\( p_i \\) is the proportion of instances of class \\( i \\) in the node, and \\( C \\) is the number of classes."
      ],
      "metadata": {
        "id": "K1FpXhiDbg5d"
      }
    },
    {
      "cell_type": "markdown",
      "source": [
        "5. What is Information Gain, and how is it used in Decision Trees?\n",
        "\n",
        "- Information Gain measures the reduction in impurity after splitting the data on a feature. It is calculated as the difference between the impurity of the parent node and the weighted average impurity of the child nodes. The feature with the highest Information Gain is chosen for splitting."
      ],
      "metadata": {
        "id": "TWvcNhI7bg88"
      }
    },
    {
      "cell_type": "markdown",
      "source": [
        "6. What is the difference between Gini Impurity and Entropy?\n",
        "\n",
        "-Both Gini Impurity and Entropy measure the impurity of a node, but they have slightly different properties:\n",
        "- Gini Impurity tends to favor larger partitions.\n",
        "- Entropy tends to favor more balanced splits and can lead to more complex trees."
      ],
      "metadata": {
        "id": "QIiqAMu6cEmk"
      }
    },
    {
      "cell_type": "markdown",
      "source": [
        "7. What is the mathematical explanation behind Decision Trees?\n",
        "\n",
        "- Decision Trees use recursive partitioning to split the data into subsets based on feature values. At each step, the algorithm chooses the feature that maximizes Information Gain (or minimizes impurity). This process continues until a stopping criterion is met (e.g., all instances in a node belong to the same class)."
      ],
      "metadata": {
        "id": "8OStsJAwcEpU"
      }
    },
    {
      "cell_type": "markdown",
      "source": [
        "8. What is Pre-Pruning in Decision Trees?\n",
        "\n",
        "- Pre-Pruning (or early stopping) involves stopping the growth of the tree before it perfectly fits the training data. This can be done by setting a maximum depth, minimum samples per split, or other criteria to prevent overfitting."
      ],
      "metadata": {
        "id": "W27Cgpp8cEsM"
      }
    },
    {
      "cell_type": "markdown",
      "source": [
        "9. What is Post-Pruning in Decision Trees?\n",
        "\n",
        "- Post-Pruning involves growing the full tree and then removing branches that do not significantly contribute to the model's performance on validation data. This helps reduce overfitting while preserving the important structure of the tree."
      ],
      "metadata": {
        "id": "kn64mgAucEvP"
      }
    },
    {
      "cell_type": "markdown",
      "source": [
        "10. What is the difference between Pre-Pruning and Post-Pruning?\n",
        "\n",
        "- Pre-Pruning: Stops growing the tree early based on certain criteria, potentially missing important interactions.\n",
        "- Post-Pruning: Grows the full tree and then prunes it, allowing the model to capture complex patterns before simplifying."
      ],
      "metadata": {
        "id": "0mGsgXiVcEyo"
      }
    },
    {
      "cell_type": "markdown",
      "source": [
        "11. What is a Decision Tree Regressor?\n",
        "- A Decision Tree Regressor is used for predicting continuous target variables. It works similarly to a classification tree but uses impurity measures like Mean Squared Error (MSE) to determine splits."
      ],
      "metadata": {
        "id": "HzaGXTjhcdRw"
      }
    },
    {
      "cell_type": "markdown",
      "source": [
        "\n",
        "\n",
        "12. What are the advantages and disadvantages of Decision Trees?\n",
        "\n",
        "-Advantages:\n",
        "- Easy to interpret and visualize.\n",
        "- Handle both numerical and categorical data.\n",
        "- Require little data preparation.\n",
        "\n",
        "Disadvantages:\n",
        "- Can overfit if not pruned or if the tree is too complex.\n",
        "- Small changes in data can lead to different trees.\n",
        "- May not perform well on complex relationships.\n",
        "\n"
      ],
      "metadata": {
        "id": "tshmhnZecdUl"
      }
    },
    {
      "cell_type": "markdown",
      "source": [
        "13. How does a Decision Tree handle missing values?\n",
        "\n",
        "-Decision Trees can handle missing values by:\n",
        "- Ignoring the missing values during split calculation.\n",
        "- Treating missing values as a separate category.\n",
        "- Using surrogate splits.\n",
        "\n"
      ],
      "metadata": {
        "id": "odUZAMHNcdXf"
      }
    },
    {
      "cell_type": "markdown",
      "source": [
        "14. How does a Decision Tree handle categorical features?\n",
        "\n",
        "-Decision Trees handle categorical features by:\n",
        "- Splitting on categories directly.\n",
        "- Using one-hot encoding or similar techniques to transform categorical variables into numerical form.\n",
        "\n"
      ],
      "metadata": {
        "id": "DhTRLmJJcdau"
      }
    },
    {
      "cell_type": "markdown",
      "source": [
        "15. What are some real-world applications of Decision Trees?\n",
        "\n",
        "-Decision Trees are used in various applications, including:\n",
        "- Credit risk assessment.\n",
        "- Medical diagnosis.\n",
        "- Customer segmentation.\n",
        "- Fraud detection.\n",
        "- Predicting customer churn.\n",
        "\n",
        "Decision Trees are versatile and can be applied to many different types of problems, especially when interpretability is important."
      ],
      "metadata": {
        "id": "fZawnhCbcdeD"
      }
    },
    {
      "cell_type": "markdown",
      "source": [
        "# Practical Questions"
      ],
      "metadata": {
        "id": "og9jog_nk4d1"
      }
    },
    {
      "cell_type": "code",
      "source": [
        "# 16. Write a Python program to train a Decision Tree Classifier on the Iris dataset and print the model accuracy\n",
        "\n",
        "from sklearn.datasets import load_iris\n",
        "from sklearn.model_selection import train_test_split\n",
        "from sklearn.tree import DecisionTreeClassifier\n",
        "from sklearn.metrics import accuracy_score\n",
        "\n",
        "# Load iris dataset\n",
        "iris = load_iris()\n",
        "X = iris.data\n",
        "y = iris.target\n",
        "\n",
        "# Split dataset into training set and test set\n",
        "X_train, X_test, y_train, y_test = train_test_split(X, y, test_size=0.3, random_state=1)\n",
        "\n",
        "# Create Decision Tree classifier object\n",
        "clf = DecisionTreeClassifier()\n",
        "\n",
        "# Train Decision Tree Classifier\n",
        "clf = clf.fit(X_train, y_train)\n",
        "\n",
        "# Predict the response for test dataset\n",
        "y_pred = clf.predict(X_test)\n",
        "\n",
        "# Model Accuracy\n",
        "print(\"Accuracy:\", accuracy_score(y_test, y_pred))\n"
      ],
      "metadata": {
        "colab": {
          "base_uri": "https://localhost:8080/"
        },
        "id": "Stb0z6WblBwb",
        "outputId": "5fbb8a2b-3774-4101-ac2c-53763d126637"
      },
      "execution_count": 7,
      "outputs": [
        {
          "output_type": "stream",
          "name": "stdout",
          "text": [
            "Accuracy: 0.9555555555555556\n"
          ]
        }
      ]
    },
    {
      "cell_type": "code",
      "source": [
        "# 17. Write a Python program to train a Decision Tree Classifier using Gini Impurity as the criterion and print the feature importances.\n",
        "\n",
        "from sklearn.datasets import load_iris\n",
        "from sklearn.tree import DecisionTreeClassifier\n",
        "\n",
        "# Load iris dataset\n",
        "iris = load_iris()\n",
        "X = iris.data\n",
        "y = iris.target\n",
        "\n",
        "# Create Decision Tree classifier object\n",
        "clf = DecisionTreeClassifier(criterion=\"gini\")\n",
        "\n",
        "# Train Decision Tree Classifier\n",
        "clf = clf.fit(X, y)\n",
        "\n",
        "# Feature importances\n",
        "print(\"Feature importances:\", clf.feature_importances_)\n"
      ],
      "metadata": {
        "colab": {
          "base_uri": "https://localhost:8080/"
        },
        "id": "bM50LCzymcJ5",
        "outputId": "7fc6e91b-feb6-48ed-8256-15ba9d64f438"
      },
      "execution_count": 6,
      "outputs": [
        {
          "output_type": "stream",
          "name": "stdout",
          "text": [
            "Feature importances: [0.01333333 0.01333333 0.55072262 0.42261071]\n"
          ]
        }
      ]
    },
    {
      "cell_type": "code",
      "source": [
        "# 18. Write a Python program to train a Decision Tree Classifier using Entropy as the splitting criterion and print the model accuracy.\n",
        "\n",
        "from sklearn.datasets import load_iris\n",
        "from sklearn.model_selection import train_test_split\n",
        "from sklearn.tree import DecisionTreeClassifier\n",
        "from sklearn.metrics import accuracy_score\n",
        "\n",
        "# Load iris dataset\n",
        "iris = load_iris()\n",
        "X = iris.data\n",
        "y = iris.target\n",
        "\n",
        "# Split dataset into training set and test set\n",
        "X_train, X_test, y_train, y_test = train_test_split(X, y, test_size=0.3, random_state=1)\n",
        "\n",
        "# Create Decision Tree classifier object\n",
        "clf = DecisionTreeClassifier(criterion=\"entropy\")\n",
        "\n",
        "# Train Decision Tree Classifier\n",
        "clf = clf.fit(X_train, y_train)\n",
        "\n",
        "# Predict the response for test dataset\n",
        "y_pred = clf.predict(X_test)\n",
        "\n",
        "# Model Accuracy\n",
        "print(\"Accuracy:\", accuracy_score(y_test, y_pred))\n"
      ],
      "metadata": {
        "colab": {
          "base_uri": "https://localhost:8080/"
        },
        "id": "7150qE6GmcM9",
        "outputId": "ee164e1b-d65e-4ee5-e538-f729323b37b3"
      },
      "execution_count": 5,
      "outputs": [
        {
          "output_type": "stream",
          "name": "stdout",
          "text": [
            "Accuracy: 0.9555555555555556\n"
          ]
        }
      ]
    },
    {
      "cell_type": "code",
      "source": [
        "# 19. Write a Python program to train a Decision Tree Regressor on a housing dataset and evaluate using Mean Squared Error (MSE).\n",
        "\n",
        "\n",
        "from sklearn.datasets import fetch_california_housing\n",
        "from sklearn.model_selection import train_test_split\n",
        "from sklearn.tree import DecisionTreeRegressor\n",
        "from sklearn.metrics import mean_squared_error\n",
        "\n",
        "# Load housing dataset\n",
        "housing = fetch_california_housing()\n",
        "X = housing.data\n",
        "y = housing.target\n",
        "\n",
        "# Split dataset into training set and test set\n",
        "X_train, X_test, y_train, y_test = train_test_split(X, y, test_size=0.3, random_state=1)\n",
        "\n",
        "# Create Decision Tree Regressor object\n",
        "regressor = DecisionTreeRegressor()\n",
        "\n",
        "# Train Decision Tree Regressor\n",
        "regressor = regressor.fit(X_train, y_train)\n",
        "\n",
        "# Predict the response for test dataset\n",
        "y_pred = regressor.predict(X_test)\n",
        "\n",
        "# Model MSE\n",
        "print(\"MSE:\", mean_squared_error(y_test, y_pred))\n",
        "\n"
      ],
      "metadata": {
        "colab": {
          "base_uri": "https://localhost:8080/"
        },
        "id": "5oFtqFfBmcQj",
        "outputId": "51abcc7c-a3ec-4cbf-a1ed-6e38b94a789c"
      },
      "execution_count": 4,
      "outputs": [
        {
          "output_type": "stream",
          "name": "stdout",
          "text": [
            "MSE: 0.4843163586539567\n"
          ]
        }
      ]
    },
    {
      "cell_type": "code",
      "source": [
        "# 20. Write a Python program to train a Decision Tree Classifier and visualize the tree using graphviz\n",
        "\n",
        "from sklearn.datasets import load_iris\n",
        "from sklearn.tree import DecisionTreeClassifier\n",
        "from sklearn import tree\n",
        "import graphviz\n",
        "\n",
        "# Load iris dataset\n",
        "iris = load_iris()\n",
        "X = iris.data\n",
        "y = iris.target\n",
        "\n",
        "# Create Decision Tree classifier object\n",
        "clf = DecisionTreeClassifier()\n",
        "\n",
        "# Train Decision Tree Classifier\n",
        "clf = clf.fit(X, y)\n",
        "\n",
        "# Visualize the tree\n",
        "dot_data = tree.export_graphviz(clf, out_file=None, feature_names=iris.feature_names, class_names=iris.target_names)\n",
        "graph = graphviz.Source(dot_data)\n",
        "graph.render(\"iris\")\n"
      ],
      "metadata": {
        "colab": {
          "base_uri": "https://localhost:8080/",
          "height": 35
        },
        "id": "5RZC5Oronaou",
        "outputId": "0175b6b6-8a50-4fea-f5c4-2dcc6924cd56"
      },
      "execution_count": 3,
      "outputs": [
        {
          "output_type": "execute_result",
          "data": {
            "text/plain": [
              "'iris.pdf'"
            ],
            "application/vnd.google.colaboratory.intrinsic+json": {
              "type": "string"
            }
          },
          "metadata": {},
          "execution_count": 3
        }
      ]
    },
    {
      "cell_type": "code",
      "source": [
        "# 21. Write a Python program to train a Decision Tree Classifier with a maximum depth of 3 and compare its accuracy with a fully grown tree.\n",
        "\n",
        "from sklearn.datasets import load_iris\n",
        "from sklearn.model_selection import train_test_split\n",
        "from sklearn.tree import DecisionTreeClassifier\n",
        "from sklearn.metrics import accuracy_score\n",
        "\n",
        "# Load iris dataset\n",
        "iris = load_iris()\n",
        "X = iris.data\n",
        "y = iris.target\n",
        "\n",
        "# Split dataset into training set and test set\n",
        "X_train, X_test, y_train, y_test = train_test_split(X, y, test_size=0.3, random_state=1)\n",
        "\n",
        "# Create a Decision Tree classifier with max depth of 3\n",
        "clf_max_depth_3 = DecisionTreeClassifier(max_depth=3)\n",
        "\n",
        "# Train the classifier with max depth of 3\n",
        "clf_max_depth_3 = clf_max_depth_3.fit(X_train, y_train)\n",
        "\n",
        "# Predict the response for the test dataset using the limited depth tree\n",
        "y_pred_max_depth_3 = clf_max_depth_3.predict(X_test)\n",
        "\n",
        "# Model Accuracy with max depth of 3\n",
        "accuracy_max_depth_3 = accuracy_score(y_test, y_pred_max_depth_3)\n",
        "print(\"Accuracy with max depth of 3:\", accuracy_max_depth_3)\n",
        "\n",
        "# Create a fully grown Decision Tree classifier\n",
        "clf_full = DecisionTreeClassifier()\n",
        "\n",
        "# Train the fully grown classifier\n",
        "clf_full = clf_full.fit(X_train, y_train)\n",
        "\n",
        "# Predict the response for the test dataset using the fully grown tree\n",
        "y_pred_full = clf_full.predict(X_test)\n",
        "\n",
        "# Model Accuracy for the fully grown tree\n",
        "accuracy_full = accuracy_score(y_test, y_pred_full)\n",
        "print(\"Accuracy with a fully grown tree:\", accuracy_full)\n",
        "\n",
        "# Compare accuracies\n",
        "if accuracy_max_depth_3 > accuracy_full:\n",
        "    print(\"The tree with max depth 3 has higher accuracy.\")\n",
        "elif accuracy_full > accuracy_max_depth_3:\n",
        "    print(\"The fully grown tree has higher accuracy.\")\n",
        "else:\n",
        "    print(\"Both trees have the same accuracy.\")\n"
      ],
      "metadata": {
        "colab": {
          "base_uri": "https://localhost:8080/"
        },
        "id": "G_r4zwQenasE",
        "outputId": "446b6049-95db-487a-98eb-b3f45829b198"
      },
      "execution_count": 12,
      "outputs": [
        {
          "output_type": "stream",
          "name": "stdout",
          "text": [
            "Accuracy with max depth of 3: 0.9555555555555556\n",
            "Accuracy with a fully grown tree: 0.9555555555555556\n",
            "Both trees have the same accuracy.\n"
          ]
        }
      ]
    },
    {
      "cell_type": "code",
      "source": [
        "# 22. Write a Python program to train a Decision Tree Classifier using min_samples_split=5 and compare its accuracy with a default tree\n",
        "\n",
        "\n",
        "from sklearn.datasets import load_iris\n",
        "from sklearn.model_selection import train_test_split\n",
        "from sklearn.tree import DecisionTreeClassifier\n",
        "from sklearn.metrics import accuracy_score\n",
        "\n",
        "# Load iris dataset\n",
        "iris = load_iris()\n",
        "X = iris.data\n",
        "y = iris.target\n",
        "\n",
        "# Split dataset into training set and test set\n",
        "X_train, X_test, y_train, y_test = train_test_split(X, y, test_size=0.3, random_state=1)\n",
        "\n",
        "# Create a Decision Tree classifier with min_samples_split=5\n",
        "clf_min_samples_5 = DecisionTreeClassifier(min_samples_split=5)\n",
        "\n",
        "# Train the classifier with min_samples_split=5\n",
        "clf_min_samples_5 = clf_min_samples_5.fit(X_train, y_train)\n",
        "\n",
        "# Predict the response for the test dataset using the tree with min_samples_split=5\n",
        "y_pred_min_samples_5 = clf_min_samples_5.predict(X_test)\n",
        "\n",
        "# Model Accuracy with min_samples_split=5\n",
        "accuracy_min_samples_5 = accuracy_score(y_test, y_pred_min_samples_5)\n",
        "print(\"Accuracy with min_samples_split=5:\", accuracy_min_samples_5)\n",
        "\n",
        "# Create a default Decision Tree classifier\n",
        "clf_default = DecisionTreeClassifier()\n",
        "\n",
        "# Train the default classifier\n",
        "clf_default = clf_default.fit(X_train, y_train)\n",
        "\n",
        "# Predict the response for the test dataset using the default tree\n",
        "y_pred_default = clf_default.predict(X_test)\n",
        "\n",
        "# Model Accuracy for the default tree\n",
        "accuracy_default = accuracy_score(y_test, y_pred_default)\n",
        "print(\"Accuracy with a default tree:\", accuracy_default)\n",
        "\n",
        "# Compare accuracies\n",
        "if accuracy_min_samples_5 > accuracy_default:\n",
        "    print(\"The tree with min_samples_split=5 has higher accuracy.\")\n",
        "elif accuracy_default > accuracy_min_samples_5:\n",
        "    print(\"The default tree has higher accuracy.\")\n",
        "else:\n",
        "    print(\"Both trees have the same accuracy.\")"
      ],
      "metadata": {
        "colab": {
          "base_uri": "https://localhost:8080/"
        },
        "id": "-qmfxioRtGNB",
        "outputId": "83230864-18f6-479d-fda1-b9c2d9abe7c0"
      },
      "execution_count": 14,
      "outputs": [
        {
          "output_type": "stream",
          "name": "stdout",
          "text": [
            "Accuracy with min_samples_split=5: 0.9555555555555556\n",
            "Accuracy with a default tree: 0.9555555555555556\n",
            "Both trees have the same accuracy.\n"
          ]
        }
      ]
    },
    {
      "cell_type": "code",
      "source": [
        "# 23. Write a Python program to apply feature scaling before training a Decision Tree Classifier and compare its accuracy with unscaled data\n",
        "\n",
        "from sklearn.datasets import load_iris\n",
        "from sklearn.model_selection import train_test_split\n",
        "from sklearn.tree import DecisionTreeClassifier\n",
        "from sklearn.metrics import accuracy_score\n",
        "from sklearn.preprocessing import StandardScaler\n",
        "\n",
        "# Load iris dataset\n",
        "iris = load_iris()\n",
        "X = iris.data\n",
        "y = iris.target\n",
        "\n",
        "# Split dataset into training set and test set\n",
        "X_train, X_test, y_train, y_test = train_test_split(X, y, test_size=0.3, random_state=1)\n",
        "\n",
        "# --- Train on unscaled data ---\n",
        "# Create a Decision Tree classifier\n",
        "clf_unscaled = DecisionTreeClassifier()\n",
        "\n",
        "# Train the classifier on unscaled data\n",
        "clf_unscaled = clf_unscaled.fit(X_train, y_train)\n",
        "\n",
        "# Predict the response for the test dataset using the unscaled data tree\n",
        "y_pred_unscaled = clf_unscaled.predict(X_test)\n",
        "\n",
        "# Model Accuracy with unscaled data\n",
        "accuracy_unscaled = accuracy_score(y_test, y_pred_unscaled)\n",
        "print(\"Accuracy with unscaled data:\", accuracy_unscaled)\n",
        "\n",
        "# --- Apply Feature Scaling ---\n",
        "scaler = StandardScaler()\n",
        "\n",
        "# Fit the scaler on the training data and transform both training and test data\n",
        "X_train_scaled = scaler.fit_transform(X_train)\n",
        "X_test_scaled = scaler.transform(X_test)\n",
        "\n",
        "# --- Train on scaled data ---\n",
        "# Create a Decision Tree classifier\n",
        "clf_scaled = DecisionTreeClassifier()\n",
        "\n",
        "# Train the classifier on scaled data\n",
        "clf_scaled = clf_scaled.fit(X_train_scaled, y_train)\n",
        "\n",
        "# Predict the response for the test dataset using the scaled data tree\n",
        "y_pred_scaled = clf_scaled.predict(X_test_scaled)\n",
        "\n",
        "# Model Accuracy with scaled data\n",
        "accuracy_scaled = accuracy_score(y_test, y_pred_scaled)\n",
        "print(\"Accuracy with scaled data:\", accuracy_scaled)\n",
        "\n",
        "# Compare accuracies\n",
        "if accuracy_scaled > accuracy_unscaled:\n",
        "    print(\"The tree trained on scaled data has higher accuracy.\")\n",
        "elif accuracy_unscaled > accuracy_scaled:\n",
        "    print(\"The tree trained on unscaled data has higher accuracy.\")\n",
        "else:\n",
        "    print(\"Both trees have the same accuracy.\")"
      ],
      "metadata": {
        "colab": {
          "base_uri": "https://localhost:8080/"
        },
        "id": "cvy5GNTGtnB0",
        "outputId": "0456f1d4-af8f-42b5-cfe8-ebca6b02e407"
      },
      "execution_count": 15,
      "outputs": [
        {
          "output_type": "stream",
          "name": "stdout",
          "text": [
            "Accuracy with unscaled data: 0.9555555555555556\n",
            "Accuracy with scaled data: 0.9555555555555556\n",
            "Both trees have the same accuracy.\n"
          ]
        }
      ]
    },
    {
      "cell_type": "code",
      "source": [
        "# 24. Write a Python program to train a Decision Tree Classifier using One-vs-Rest (OvR) strategy for multiclass classification\n",
        "\n",
        "\n",
        "from sklearn.datasets import load_iris\n",
        "from sklearn.model_selection import train_test_split\n",
        "from sklearn.tree import DecisionTreeClassifier\n",
        "from sklearn.multiclass import OneVsRestClassifier\n",
        "from sklearn.metrics import accuracy_score\n",
        "\n",
        "# Load iris dataset\n",
        "iris = load_iris()\n",
        "X = iris.data\n",
        "y = iris.target\n",
        "\n",
        "# Split dataset into training set and test set\n",
        "X_train, X_test, y_train, y_test = train_test_split(X, y, test_size=0.3, random_state=1)\n",
        "\n",
        "# Create a Decision Tree classifier as the base estimator\n",
        "base_classifier = DecisionTreeClassifier()\n",
        "\n",
        "# Create a One-vs-Rest classifier with the Decision Tree base estimator\n",
        "ovr_classifier = OneVsRestClassifier(base_classifier)\n",
        "\n",
        "# Train the One-vs-Rest classifier\n",
        "ovr_classifier = ovr_classifier.fit(X_train, y_train)\n",
        "\n",
        "# Predict the response for test dataset\n",
        "y_pred = ovr_classifier.predict(X_test)\n",
        "\n",
        "# Model Accuracy\n",
        "print(\"Accuracy with One-vs-Rest Decision Tree:\", accuracy_score(y_test, y_pred))\n"
      ],
      "metadata": {
        "colab": {
          "base_uri": "https://localhost:8080/"
        },
        "id": "d6k1FrhOt5yg",
        "outputId": "7c148ab4-6c7f-4aa0-e9a7-f1720dbb7ebc"
      },
      "execution_count": 16,
      "outputs": [
        {
          "output_type": "stream",
          "name": "stdout",
          "text": [
            "Accuracy with One-vs-Rest Decision Tree: 0.9555555555555556\n"
          ]
        }
      ]
    },
    {
      "cell_type": "code",
      "source": [
        "# 25. Write a Python program to train a Decision Tree Classifier and display the feature importance scores.\n",
        "\n",
        "from sklearn.datasets import load_iris\n",
        "from sklearn.tree import DecisionTreeClassifier\n",
        "\n",
        "# Load iris dataset\n",
        "iris = load_iris()\n",
        "X = iris.data\n",
        "y = iris.target\n",
        "\n",
        "# Get feature names\n",
        "feature_names = iris.feature_names\n",
        "\n",
        "# Create Decision Tree classifier object\n",
        "clf = DecisionTreeClassifier()\n",
        "\n",
        "# Train Decision Tree Classifier\n",
        "clf = clf.fit(X, y)\n",
        "\n",
        "# Get feature importances\n",
        "feature_importances = clf.feature_importances_\n",
        "\n",
        "# Display feature importances\n",
        "print(\"Feature importances:\")\n",
        "for name, importance in zip(feature_names, feature_importances):\n",
        "    print(f\"{name}: {importance:.4f}\")"
      ],
      "metadata": {
        "colab": {
          "base_uri": "https://localhost:8080/"
        },
        "id": "o3k7ICmguRvp",
        "outputId": "f6d81ab8-7fcb-40cb-bcdb-7bf84cbf5041"
      },
      "execution_count": 17,
      "outputs": [
        {
          "output_type": "stream",
          "name": "stdout",
          "text": [
            "Feature importances:\n",
            "sepal length (cm): 0.0267\n",
            "sepal width (cm): 0.0000\n",
            "petal length (cm): 0.5507\n",
            "petal width (cm): 0.4226\n"
          ]
        }
      ]
    },
    {
      "cell_type": "code",
      "source": [
        "# 26. Write a Python program to train a Decision Tree Regressor with max_depth=5 and compare its performance with an unrestricted tree.\n",
        "\n",
        "from sklearn.datasets import fetch_california_housing\n",
        "from sklearn.model_selection import train_test_split\n",
        "from sklearn.tree import DecisionTreeRegressor\n",
        "from sklearn.metrics import mean_squared_error\n",
        "\n",
        "# Load housing dataset\n",
        "housing = fetch_california_housing()\n",
        "X = housing.data\n",
        "y = housing.target\n",
        "\n",
        "# Split dataset into training set and test set\n",
        "X_train, X_test, y_train, y_test = train_test_split(X, y, test_size=0.3, random_state=1)\n",
        "\n",
        "# Create a Decision Tree Regressor with max depth of 5\n",
        "regressor_max_depth_5 = DecisionTreeRegressor(max_depth=5)\n",
        "\n",
        "# Train the regressor with max depth of 5\n",
        "regressor_max_depth_5 = regressor_max_depth_5.fit(X_train, y_train)\n",
        "\n",
        "# Predict the response for the test dataset using the limited depth tree\n",
        "y_pred_max_depth_5 = regressor_max_depth_5.predict(X_test)\n",
        "\n",
        "# Model MSE with max depth of 5\n",
        "mse_max_depth_5 = mean_squared_error(y_test, y_pred_max_depth_5)\n",
        "print(\"MSE with max depth of 5:\", mse_max_depth_5)\n",
        "\n",
        "# Create a fully grown Decision Tree Regressor\n",
        "regressor_full = DecisionTreeRegressor()\n",
        "\n",
        "# Train the fully grown regressor\n",
        "regressor_full = regressor_full.fit(X_train, y_train)\n",
        "\n",
        "# Predict the response for the test dataset using the fully grown tree\n",
        "y_pred_full = regressor_full.predict(X_test)\n",
        "\n",
        "# Model MSE for the fully grown tree\n",
        "mse_full = mean_squared_error(y_test, y_pred_full)\n",
        "print(\"MSE with an unrestricted tree:\", mse_full)\n",
        "\n",
        "# Compare MSE\n",
        "if mse_max_depth_5 < mse_full:\n",
        "    print(\"The regressor with max depth 5 has lower MSE (better performance).\")\n",
        "elif mse_full < mse_max_depth_5:\n",
        "    print(\"The unrestricted tree has lower MSE (better performance).\")\n",
        "else:\n",
        "    print(\"Both regressors have the same MSE.\")"
      ],
      "metadata": {
        "colab": {
          "base_uri": "https://localhost:8080/"
        },
        "id": "ynIshlcLuhdL",
        "outputId": "04a0c5e5-6b09-43a9-e63e-18fd1f200c59"
      },
      "execution_count": 18,
      "outputs": [
        {
          "output_type": "stream",
          "name": "stdout",
          "text": [
            "MSE with max depth of 5: 0.49755998972953036\n",
            "MSE with an unrestricted tree: 0.4958194812185077\n",
            "The unrestricted tree has lower MSE (better performance).\n"
          ]
        }
      ]
    },
    {
      "cell_type": "code",
      "source": [
        "# 27.  Write a Python program to train a Decision Tree Classifier, apply Cost Complexity Pruning (CCP), and visualize its effect on accuracy\n",
        "\n",
        "import matplotlib.pyplot as plt\n",
        "from sklearn.datasets import load_iris\n",
        "from sklearn.model_selection import train_test_split\n",
        "from sklearn.tree import DecisionTreeClassifier\n",
        "from sklearn.metrics import accuracy_score\n",
        "\n",
        "# Load iris dataset\n",
        "iris = load_iris()\n",
        "X = iris.data\n",
        "y = iris.target\n",
        "\n",
        "# Split dataset into training set and test set\n",
        "X_train, X_test, y_train, y_test = train_test_split(X, y, test_size=0.3, random_state=1)\n",
        "\n",
        "# Train a Decision Tree Classifier (unpruned) to get cost complexity pruning paths\n",
        "clf = DecisionTreeClassifier(random_state=0)\n",
        "path = clf.cost_complexity_pruning_path(X_train, y_train)\n",
        "ccp_alphas, impurities = path.ccp_alphas, path.impurities\n",
        "\n",
        "# Train a series of Decision Trees with different ccp_alpha values\n",
        "clfs = []\n",
        "for ccp_alpha in ccp_alphas:\n",
        "    clf = DecisionTreeClassifier(random_state=0, ccp_alpha=ccp_alpha)\n",
        "    clf.fit(X_train, y_train)\n",
        "    clfs.append(clf)\n",
        "\n",
        "# Remove the last classifier (which is the fully grown tree before pruning)\n",
        "clfs = clfs[:-1]\n",
        "ccp_alphas = ccp_alphas[:-1]\n",
        "\n",
        "# Calculate accuracy for each classifier on the training and test sets\n",
        "train_scores = [clf.score(X_train, y_train) for clf in clfs]\n",
        "test_scores = [clf.score(X_test, y_test) for clf in clfs]\n",
        "\n",
        "# Visualize the effect of ccp_alpha on accuracy\n",
        "plt.figure(figsize=(10, 6))\n",
        "plt.plot(ccp_alphas, train_scores, marker='o', label=\"train\", drawstyle=\"steps-post\")\n",
        "plt.plot(ccp_alphas, test_scores, marker='o', label=\"test\", drawstyle=\"steps-post\")\n",
        "plt.xlabel(\"alpha\")\n",
        "plt.ylabel(\"accuracy\")\n",
        "plt.title(\"Accuracy vs alpha for training and testing sets\")\n",
        "plt.legend()\n",
        "plt.grid(True)\n",
        "plt.show()\n",
        "\n",
        "# Find the ccp_alpha that maximizes test accuracy\n",
        "optimal_ccp_alpha = ccp_alphas[test_scores.index(max(test_scores))]\n",
        "print(f\"\\nOptimal ccp_alpha based on test accuracy: {optimal_ccp_alpha:.4f}\")\n",
        "\n",
        "# Train the final pruned tree with the optimal ccp_alpha\n",
        "final_pruned_tree = DecisionTreeClassifier(random_state=0, ccp_alpha=optimal_ccp_alpha)\n",
        "final_pruned_tree.fit(X_train, y_train)\n",
        "\n",
        "# Evaluate the final pruned tree\n",
        "y_pred_pruned = final_pruned_tree.predict(X_test)\n",
        "accuracy_pruned = accuracy_score(y_test, y_pred_pruned)\n",
        "print(f\"Accuracy of the final pruned tree: {accuracy_pruned:.4f}\")\n",
        "\n",
        "# Evaluate the fully grown tree for comparison\n",
        "clf_full = DecisionTreeClassifier(random_state=0)\n",
        "clf_full.fit(X_train, y_train)\n",
        "y_pred_full = clf_full.predict(X_test)\n",
        "accuracy_full = accuracy_score(y_test, y_pred_full)\n",
        "print(f\"Accuracy of the fully grown tree: {accuracy_full:.4f}\")"
      ],
      "metadata": {
        "colab": {
          "base_uri": "https://localhost:8080/",
          "height": 633
        },
        "id": "M-R1uNhvu1oB",
        "outputId": "a31b0f45-68a5-40f0-d80d-f0015cf3a210"
      },
      "execution_count": 19,
      "outputs": [
        {
          "output_type": "display_data",
          "data": {
            "text/plain": [
              "<Figure size 1000x600 with 1 Axes>"
            ],
            "image/png": "[encoded data removed]"
          },
          "metadata": {}
        },
        {
          "output_type": "stream",
          "name": "stdout",
          "text": [
            "\n",
            "Optimal ccp_alpha based on test accuracy: 0.0000\n",
            "Accuracy of the final pruned tree: 0.9556\n",
            "Accuracy of the fully grown tree: 0.9556\n"
          ]
        }
      ]
    },
    {
      "cell_type": "code",
      "source": [
        "# 28. Write a Python program to train a Decision Tree Classifier and evaluate its performance using Precision, Recall, and F1-Score\n",
        "\n",
        "from sklearn.datasets import load_iris\n",
        "from sklearn.model_selection import train_test_split\n",
        "from sklearn.tree import DecisionTreeClassifier\n",
        "from sklearn.metrics import precision_score, recall_score, f1_score, accuracy_score\n",
        "\n",
        "# Load iris dataset\n",
        "iris = load_iris()\n",
        "X = iris.data\n",
        "y = iris.target\n",
        "\n",
        "# Split dataset into training set and test set\n",
        "X_train, X_test, y_train, y_test = train_test_split(X, y, test_size=0.3, random_state=1)\n",
        "\n",
        "# Create Decision Tree classifier object\n",
        "clf = DecisionTreeClassifier()\n",
        "\n",
        "# Train Decision Tree Classifier\n",
        "clf = clf.fit(X_train, y_train)\n",
        "\n",
        "# Predict the response for test dataset\n",
        "y_pred = clf.predict(X_test)\n",
        "\n",
        "# Calculate evaluation metrics\n",
        "accuracy = accuracy_score(y_test, y_pred)\n",
        "precision = precision_score(y_test, y_pred, average='weighted')  # Use 'weighted' for multiclass\n",
        "recall = recall_score(y_test, y_pred, average='weighted')      # Use 'weighted' for multiclass\n",
        "f1 = f1_score(y_test, y_pred, average='weighted')              # Use 'weighted' for multiclass\n",
        "\n",
        "# Print the evaluation metrics\n",
        "print(f\"Accuracy: {accuracy:.4f}\")\n",
        "print(f\"Precision: {precision:.4f}\")\n",
        "print(f\"Recall: {recall:.4f}\")\n",
        "print(f\"F1-Score: {f1:.4f}\")"
      ],
      "metadata": {
        "colab": {
          "base_uri": "https://localhost:8080/"
        },
        "id": "S0Y2pasIvGn9",
        "outputId": "4b388c7d-bb7a-4f00-f9b0-2ec113e7721c"
      },
      "execution_count": 20,
      "outputs": [
        {
          "output_type": "stream",
          "name": "stdout",
          "text": [
            "Accuracy: 0.9556\n",
            "Precision: 0.9556\n",
            "Recall: 0.9556\n",
            "F1-Score: 0.9556\n"
          ]
        }
      ]
    },
    {
      "cell_type": "code",
      "source": [
        "# 29. Write a Python program to train a Decision Tree Classifier and visualize the confusion matrix using seaborn\n",
        "\n",
        "import matplotlib.pyplot as plt\n",
        "import seaborn as sns\n",
        "from sklearn.datasets import load_iris\n",
        "from sklearn.model_selection import train_test_split\n",
        "from sklearn.tree import DecisionTreeClassifier\n",
        "from sklearn.metrics import confusion_matrix, accuracy_score\n",
        "\n",
        "# Load iris dataset\n",
        "iris = load_iris()\n",
        "X = iris.data\n",
        "y = iris.target\n",
        "target_names = iris.target_names # Get target names for confusion matrix labels\n",
        "\n",
        "# Split dataset into training set and test set\n",
        "X_train, X_test, y_train, y_test = train_test_split(X, y, test_size=0.3, random_state=1)\n",
        "\n",
        "# Create Decision Tree classifier object\n",
        "clf = DecisionTreeClassifier()\n",
        "\n",
        "# Train Decision Tree Classifier\n",
        "clf = clf.fit(X_train, y_train)\n",
        "\n",
        "# Predict the response for test dataset\n",
        "y_pred = clf.predict(X_test)\n",
        "\n",
        "# Calculate Confusion Matrix\n",
        "cm = confusion_matrix(y_test, y_pred)\n",
        "\n",
        "# Visualize Confusion Matrix using seaborn\n",
        "plt.figure(figsize=(8, 6))\n",
        "sns.heatmap(cm, annot=True, fmt='d', cmap='Blues', xticklabels=target_names, yticklabels=target_names)\n",
        "plt.xlabel('Predicted')\n",
        "plt.ylabel('Actual')\n",
        "plt.title('Confusion Matrix')\n",
        "plt.show()\n",
        "\n",
        "# Optional: Print accuracy for reference\n",
        "accuracy = accuracy_score(y_test, y_pred)\n",
        "print(f\"Accuracy: {accuracy:.4f}\")"
      ],
      "metadata": {
        "colab": {
          "base_uri": "https://localhost:8080/",
          "height": 581
        },
        "id": "O1skhk2QvZOk",
        "outputId": "711a7c5a-e82b-4ee6-8ac1-7655929f757d"
      },
      "execution_count": 21,
      "outputs": [
        {
          "output_type": "display_data",
          "data": {
            "text/plain": [
              "<Figure size 800x600 with 2 Axes>"
            ],
            "image/png": "[encoded data removed]"
          },
          "metadata": {}
        },
        {
          "output_type": "stream",
          "name": "stdout",
          "text": [
            "Accuracy: 0.9556\n"
          ]
        }
      ]
    },
    {
      "cell_type": "code",
      "source": [
        "# 30. Write a Python program to train a Decision Tree Classifier and use GridSearchCV to find the optimal values for max_depth and min_samples_split.\n",
        "\n",
        "from sklearn.datasets import load_iris\n",
        "from sklearn.model_selection import train_test_split, GridSearchCV\n",
        "from sklearn.tree import DecisionTreeClassifier\n",
        "from sklearn.metrics import accuracy_score\n",
        "\n",
        "# Load iris dataset\n",
        "iris = load_iris()\n",
        "X = iris.data\n",
        "y = iris.target\n",
        "\n",
        "# Split dataset into training set and test set\n",
        "X_train, X_test, y_train, y_test = train_test_split(X, y, test_size=0.3, random_state=1)\n",
        "\n",
        "# Create a Decision Tree classifier object\n",
        "clf = DecisionTreeClassifier()\n",
        "\n",
        "# Define the parameter grid for GridSearchCV\n",
        "param_grid = {\n",
        "    'max_depth': [None, 2, 3, 4, 5, 10],  # Test different max depths\n",
        "    'min_samples_split': [2, 5, 10, 20]   # Test different minimum samples to split\n",
        "}\n",
        "\n",
        "# Create GridSearchCV object\n",
        "# cv=5 means 5-fold cross-validation\n",
        "# scoring='accuracy' means the metric to optimize is accuracy\n",
        "grid_search = GridSearchCV(estimator=clf, param_grid=param_grid, cv=5, scoring='accuracy')\n",
        "\n",
        "# Perform GridSearchCV on the training data\n",
        "grid_search.fit(X_train, y_train)\n",
        "\n",
        "# Print the best parameters found by GridSearchCV\n",
        "print(\"Best parameters found by GridSearchCV:\")\n",
        "print(grid_search.best_params_)\n",
        "\n",
        "# Print the best cross-validation score\n",
        "print(\"Best cross-validation accuracy:\", grid_search.best_score_)\n",
        "\n",
        "# Get the best estimator (the trained model with the best parameters)\n",
        "best_clf = grid_search.best_estimator_\n",
        "\n",
        "# Evaluate the best estimator on the test data\n",
        "y_pred = best_clf.predict(X_test)\n",
        "\n",
        "# Print the accuracy on the test data\n",
        "accuracy = accuracy_score(y_test, y_pred)\n",
        "print(\"Accuracy on the test data with optimal parameters:\", accuracy)"
      ],
      "metadata": {
        "colab": {
          "base_uri": "https://localhost:8080/"
        },
        "id": "ZO8glNRfvmkt",
        "outputId": "a3f7efb3-59d4-4590-9615-08e7d908265b"
      },
      "execution_count": 22,
      "outputs": [
        {
          "output_type": "stream",
          "name": "stdout",
          "text": [
            "Best parameters found by GridSearchCV:\n",
            "{'max_depth': None, 'min_samples_split': 2}\n",
            "Best cross-validation accuracy: 0.9523809523809523\n",
            "Accuracy on the test data with optimal parameters: 0.9555555555555556\n"
          ]
        }
      ]
    }
  ]
}